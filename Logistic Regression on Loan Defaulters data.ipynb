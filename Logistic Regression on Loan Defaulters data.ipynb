{
 "cells": [
  {
   "cell_type": "markdown",
   "id": "2ffd63fe",
   "metadata": {},
   "source": [
    "# Loan Defaulters"
   ]
  },
  {
   "cell_type": "markdown",
   "id": "98a55db4",
   "metadata": {},
   "source": [
    "## Imports"
   ]
  },
  {
   "cell_type": "code",
   "execution_count": 1,
   "id": "08b31533",
   "metadata": {},
   "outputs": [],
   "source": [
    "import os\n",
    "import pandas as pd\n",
    "from sklearn.preprocessing import LabelEncoder\n",
    "from sklearn.preprocessing import StandardScaler\n",
    "from sklearn.metrics import roc_auc_score\n",
    "from sklearn.model_selection import train_test_split"
   ]
  },
  {
   "cell_type": "markdown",
   "id": "424be39c",
   "metadata": {},
   "source": [
    "## setting paths"
   ]
  },
  {
   "cell_type": "code",
   "execution_count": 2,
   "id": "4edc8c2e",
   "metadata": {},
   "outputs": [],
   "source": [
    "root_dir = 'ML_dataset'\n",
    "train_file = os.path.join(root_dir,'train.csv')\n",
    "test_file = os.path.join(root_dir,'test.csv')\n",
    "sample_submission = os.path.join(root_dir,'sample_submission.csv')\n",
    "save_path = os.path.join(root_dir,'my_submission.csv')"
   ]
  },
  {
   "cell_type": "markdown",
   "id": "6b463732",
   "metadata": {},
   "source": [
    "## loading train and test data"
   ]
  },
  {
   "cell_type": "code",
   "execution_count": 3,
   "id": "e5541ea7",
   "metadata": {},
   "outputs": [],
   "source": [
    "df = pd.read_csv(train_file)\n",
    "test_df = pd.read_csv(test_file)"
   ]
  },
  {
   "cell_type": "code",
   "execution_count": 4,
   "id": "8eb5543a",
   "metadata": {},
   "outputs": [],
   "source": [
    "df=df.drop(['member_id'], axis=1)\n",
    "test_member_id = test_df['member_id'].values\n",
    "test_df=test_df.drop(['member_id'], axis=1)"
   ]
  },
  {
   "cell_type": "markdown",
   "id": "ad6b15a9",
   "metadata": {},
   "source": [
    "## a glance at training data"
   ]
  },
  {
   "cell_type": "code",
   "execution_count": 5,
   "id": "0869c516",
   "metadata": {},
   "outputs": [
    {
     "data": {
      "text/html": [
       "<div>\n",
       "<style scoped>\n",
       "    .dataframe tbody tr th:only-of-type {\n",
       "        vertical-align: middle;\n",
       "    }\n",
       "\n",
       "    .dataframe tbody tr th {\n",
       "        vertical-align: top;\n",
       "    }\n",
       "\n",
       "    .dataframe thead th {\n",
       "        text-align: right;\n",
       "    }\n",
       "</style>\n",
       "<table border=\"1\" class=\"dataframe\">\n",
       "  <thead>\n",
       "    <tr style=\"text-align: right;\">\n",
       "      <th></th>\n",
       "      <th>loan_amnt</th>\n",
       "      <th>funded_amnt</th>\n",
       "      <th>funded_amnt_inv</th>\n",
       "      <th>term</th>\n",
       "      <th>batch_enrolled</th>\n",
       "      <th>int_rate</th>\n",
       "      <th>grade</th>\n",
       "      <th>sub_grade</th>\n",
       "      <th>emp_title</th>\n",
       "      <th>emp_length</th>\n",
       "      <th>...</th>\n",
       "      <th>collections_12_mths_ex_med</th>\n",
       "      <th>mths_since_last_major_derog</th>\n",
       "      <th>application_type</th>\n",
       "      <th>verification_status_joint</th>\n",
       "      <th>last_week_pay</th>\n",
       "      <th>acc_now_delinq</th>\n",
       "      <th>tot_coll_amt</th>\n",
       "      <th>tot_cur_bal</th>\n",
       "      <th>total_rev_hi_lim</th>\n",
       "      <th>loan_status</th>\n",
       "    </tr>\n",
       "  </thead>\n",
       "  <tbody>\n",
       "    <tr>\n",
       "      <th>0</th>\n",
       "      <td>14350</td>\n",
       "      <td>14350</td>\n",
       "      <td>14350.0</td>\n",
       "      <td>36 months</td>\n",
       "      <td></td>\n",
       "      <td>19.19</td>\n",
       "      <td>E</td>\n",
       "      <td>E3</td>\n",
       "      <td>clerk</td>\n",
       "      <td>9 years</td>\n",
       "      <td>...</td>\n",
       "      <td>0.0</td>\n",
       "      <td>74.0</td>\n",
       "      <td>INDIVIDUAL</td>\n",
       "      <td>NaN</td>\n",
       "      <td>26th week</td>\n",
       "      <td>0.0</td>\n",
       "      <td>0.0</td>\n",
       "      <td>28699.0</td>\n",
       "      <td>30800.0</td>\n",
       "      <td>0</td>\n",
       "    </tr>\n",
       "    <tr>\n",
       "      <th>1</th>\n",
       "      <td>4800</td>\n",
       "      <td>4800</td>\n",
       "      <td>4800.0</td>\n",
       "      <td>36 months</td>\n",
       "      <td>BAT1586599</td>\n",
       "      <td>10.99</td>\n",
       "      <td>B</td>\n",
       "      <td>B4</td>\n",
       "      <td>Human Resources Specialist</td>\n",
       "      <td>&lt; 1 year</td>\n",
       "      <td>...</td>\n",
       "      <td>0.0</td>\n",
       "      <td>NaN</td>\n",
       "      <td>INDIVIDUAL</td>\n",
       "      <td>NaN</td>\n",
       "      <td>9th week</td>\n",
       "      <td>0.0</td>\n",
       "      <td>0.0</td>\n",
       "      <td>9974.0</td>\n",
       "      <td>32900.0</td>\n",
       "      <td>0</td>\n",
       "    </tr>\n",
       "    <tr>\n",
       "      <th>2</th>\n",
       "      <td>10000</td>\n",
       "      <td>10000</td>\n",
       "      <td>10000.0</td>\n",
       "      <td>36 months</td>\n",
       "      <td>BAT1586599</td>\n",
       "      <td>7.26</td>\n",
       "      <td>A</td>\n",
       "      <td>A4</td>\n",
       "      <td>Driver</td>\n",
       "      <td>2 years</td>\n",
       "      <td>...</td>\n",
       "      <td>0.0</td>\n",
       "      <td>NaN</td>\n",
       "      <td>INDIVIDUAL</td>\n",
       "      <td>NaN</td>\n",
       "      <td>9th week</td>\n",
       "      <td>0.0</td>\n",
       "      <td>65.0</td>\n",
       "      <td>38295.0</td>\n",
       "      <td>34900.0</td>\n",
       "      <td>0</td>\n",
       "    </tr>\n",
       "    <tr>\n",
       "      <th>3</th>\n",
       "      <td>15000</td>\n",
       "      <td>15000</td>\n",
       "      <td>15000.0</td>\n",
       "      <td>36 months</td>\n",
       "      <td>BAT4808022</td>\n",
       "      <td>19.72</td>\n",
       "      <td>D</td>\n",
       "      <td>D5</td>\n",
       "      <td>Us office of Personnel Management</td>\n",
       "      <td>10+ years</td>\n",
       "      <td>...</td>\n",
       "      <td>0.0</td>\n",
       "      <td>NaN</td>\n",
       "      <td>INDIVIDUAL</td>\n",
       "      <td>NaN</td>\n",
       "      <td>135th week</td>\n",
       "      <td>0.0</td>\n",
       "      <td>0.0</td>\n",
       "      <td>55564.0</td>\n",
       "      <td>24700.0</td>\n",
       "      <td>0</td>\n",
       "    </tr>\n",
       "    <tr>\n",
       "      <th>4</th>\n",
       "      <td>16000</td>\n",
       "      <td>16000</td>\n",
       "      <td>16000.0</td>\n",
       "      <td>36 months</td>\n",
       "      <td>BAT2833642</td>\n",
       "      <td>10.64</td>\n",
       "      <td>B</td>\n",
       "      <td>B2</td>\n",
       "      <td>LAUSD-HOLLYWOOD HIGH SCHOOL</td>\n",
       "      <td>10+ years</td>\n",
       "      <td>...</td>\n",
       "      <td>0.0</td>\n",
       "      <td>NaN</td>\n",
       "      <td>INDIVIDUAL</td>\n",
       "      <td>NaN</td>\n",
       "      <td>96th week</td>\n",
       "      <td>0.0</td>\n",
       "      <td>0.0</td>\n",
       "      <td>47159.0</td>\n",
       "      <td>47033.0</td>\n",
       "      <td>0</td>\n",
       "    </tr>\n",
       "  </tbody>\n",
       "</table>\n",
       "<p>5 rows × 44 columns</p>\n",
       "</div>"
      ],
      "text/plain": [
       "   loan_amnt  funded_amnt  funded_amnt_inv       term batch_enrolled  \\\n",
       "0      14350        14350          14350.0  36 months                  \n",
       "1       4800         4800           4800.0  36 months     BAT1586599   \n",
       "2      10000        10000          10000.0  36 months     BAT1586599   \n",
       "3      15000        15000          15000.0  36 months     BAT4808022   \n",
       "4      16000        16000          16000.0  36 months     BAT2833642   \n",
       "\n",
       "   int_rate grade sub_grade                          emp_title emp_length  \\\n",
       "0     19.19     E        E3                              clerk    9 years   \n",
       "1     10.99     B        B4         Human Resources Specialist   < 1 year   \n",
       "2      7.26     A        A4                             Driver    2 years   \n",
       "3     19.72     D        D5  Us office of Personnel Management  10+ years   \n",
       "4     10.64     B        B2        LAUSD-HOLLYWOOD HIGH SCHOOL  10+ years   \n",
       "\n",
       "   ... collections_12_mths_ex_med  mths_since_last_major_derog  \\\n",
       "0  ...                        0.0                         74.0   \n",
       "1  ...                        0.0                          NaN   \n",
       "2  ...                        0.0                          NaN   \n",
       "3  ...                        0.0                          NaN   \n",
       "4  ...                        0.0                          NaN   \n",
       "\n",
       "  application_type verification_status_joint last_week_pay acc_now_delinq  \\\n",
       "0       INDIVIDUAL                       NaN     26th week            0.0   \n",
       "1       INDIVIDUAL                       NaN      9th week            0.0   \n",
       "2       INDIVIDUAL                       NaN      9th week            0.0   \n",
       "3       INDIVIDUAL                       NaN    135th week            0.0   \n",
       "4       INDIVIDUAL                       NaN     96th week            0.0   \n",
       "\n",
       "  tot_coll_amt tot_cur_bal total_rev_hi_lim  loan_status  \n",
       "0          0.0     28699.0          30800.0            0  \n",
       "1          0.0      9974.0          32900.0            0  \n",
       "2         65.0     38295.0          34900.0            0  \n",
       "3          0.0     55564.0          24700.0            0  \n",
       "4          0.0     47159.0          47033.0            0  \n",
       "\n",
       "[5 rows x 44 columns]"
      ]
     },
     "execution_count": 5,
     "metadata": {},
     "output_type": "execute_result"
    }
   ],
   "source": [
    "df.head()"
   ]
  },
  {
   "cell_type": "code",
   "execution_count": 6,
   "id": "df242868",
   "metadata": {},
   "outputs": [
    {
     "data": {
      "text/html": [
       "<div>\n",
       "<style scoped>\n",
       "    .dataframe tbody tr th:only-of-type {\n",
       "        vertical-align: middle;\n",
       "    }\n",
       "\n",
       "    .dataframe tbody tr th {\n",
       "        vertical-align: top;\n",
       "    }\n",
       "\n",
       "    .dataframe thead th {\n",
       "        text-align: right;\n",
       "    }\n",
       "</style>\n",
       "<table border=\"1\" class=\"dataframe\">\n",
       "  <thead>\n",
       "    <tr style=\"text-align: right;\">\n",
       "      <th></th>\n",
       "      <th>loan_amnt</th>\n",
       "      <th>funded_amnt</th>\n",
       "      <th>funded_amnt_inv</th>\n",
       "      <th>int_rate</th>\n",
       "      <th>annual_inc</th>\n",
       "      <th>dti</th>\n",
       "      <th>delinq_2yrs</th>\n",
       "      <th>inq_last_6mths</th>\n",
       "      <th>mths_since_last_delinq</th>\n",
       "      <th>mths_since_last_record</th>\n",
       "      <th>...</th>\n",
       "      <th>total_rec_late_fee</th>\n",
       "      <th>recoveries</th>\n",
       "      <th>collection_recovery_fee</th>\n",
       "      <th>collections_12_mths_ex_med</th>\n",
       "      <th>mths_since_last_major_derog</th>\n",
       "      <th>acc_now_delinq</th>\n",
       "      <th>tot_coll_amt</th>\n",
       "      <th>tot_cur_bal</th>\n",
       "      <th>total_rev_hi_lim</th>\n",
       "      <th>loan_status</th>\n",
       "    </tr>\n",
       "  </thead>\n",
       "  <tbody>\n",
       "    <tr>\n",
       "      <th>count</th>\n",
       "      <td>532428.000000</td>\n",
       "      <td>532428.000000</td>\n",
       "      <td>532428.000000</td>\n",
       "      <td>532428.000000</td>\n",
       "      <td>5.324250e+05</td>\n",
       "      <td>532428.000000</td>\n",
       "      <td>532412.000000</td>\n",
       "      <td>532412.000000</td>\n",
       "      <td>259874.000000</td>\n",
       "      <td>82123.000000</td>\n",
       "      <td>...</td>\n",
       "      <td>532428.000000</td>\n",
       "      <td>532428.000000</td>\n",
       "      <td>532428.000000</td>\n",
       "      <td>532333.000000</td>\n",
       "      <td>132980.000000</td>\n",
       "      <td>532412.000000</td>\n",
       "      <td>490424.000000</td>\n",
       "      <td>4.904240e+05</td>\n",
       "      <td>4.904240e+05</td>\n",
       "      <td>532428.000000</td>\n",
       "    </tr>\n",
       "    <tr>\n",
       "      <th>mean</th>\n",
       "      <td>14757.595722</td>\n",
       "      <td>14744.271291</td>\n",
       "      <td>14704.926696</td>\n",
       "      <td>13.242969</td>\n",
       "      <td>7.502984e+04</td>\n",
       "      <td>18.138767</td>\n",
       "      <td>0.314448</td>\n",
       "      <td>0.694603</td>\n",
       "      <td>34.055735</td>\n",
       "      <td>70.093068</td>\n",
       "      <td>...</td>\n",
       "      <td>0.394954</td>\n",
       "      <td>45.717832</td>\n",
       "      <td>4.859221</td>\n",
       "      <td>0.014299</td>\n",
       "      <td>44.121462</td>\n",
       "      <td>0.005015</td>\n",
       "      <td>213.562222</td>\n",
       "      <td>1.395541e+05</td>\n",
       "      <td>3.208057e+04</td>\n",
       "      <td>0.236327</td>\n",
       "    </tr>\n",
       "    <tr>\n",
       "      <th>std</th>\n",
       "      <td>8434.420080</td>\n",
       "      <td>8429.139277</td>\n",
       "      <td>8441.290381</td>\n",
       "      <td>4.379611</td>\n",
       "      <td>6.519985e+04</td>\n",
       "      <td>8.369074</td>\n",
       "      <td>0.860045</td>\n",
       "      <td>0.997025</td>\n",
       "      <td>21.884797</td>\n",
       "      <td>28.139219</td>\n",
       "      <td>...</td>\n",
       "      <td>4.091546</td>\n",
       "      <td>409.647467</td>\n",
       "      <td>63.123361</td>\n",
       "      <td>0.133005</td>\n",
       "      <td>22.198410</td>\n",
       "      <td>0.079117</td>\n",
       "      <td>1958.571538</td>\n",
       "      <td>1.539149e+05</td>\n",
       "      <td>3.805304e+04</td>\n",
       "      <td>0.424826</td>\n",
       "    </tr>\n",
       "    <tr>\n",
       "      <th>min</th>\n",
       "      <td>500.000000</td>\n",
       "      <td>500.000000</td>\n",
       "      <td>0.000000</td>\n",
       "      <td>5.320000</td>\n",
       "      <td>1.200000e+03</td>\n",
       "      <td>0.000000</td>\n",
       "      <td>0.000000</td>\n",
       "      <td>0.000000</td>\n",
       "      <td>0.000000</td>\n",
       "      <td>0.000000</td>\n",
       "      <td>...</td>\n",
       "      <td>0.000000</td>\n",
       "      <td>0.000000</td>\n",
       "      <td>0.000000</td>\n",
       "      <td>0.000000</td>\n",
       "      <td>0.000000</td>\n",
       "      <td>0.000000</td>\n",
       "      <td>0.000000</td>\n",
       "      <td>0.000000e+00</td>\n",
       "      <td>0.000000e+00</td>\n",
       "      <td>0.000000</td>\n",
       "    </tr>\n",
       "    <tr>\n",
       "      <th>25%</th>\n",
       "      <td>8000.000000</td>\n",
       "      <td>8000.000000</td>\n",
       "      <td>8000.000000</td>\n",
       "      <td>9.990000</td>\n",
       "      <td>4.500000e+04</td>\n",
       "      <td>11.930000</td>\n",
       "      <td>0.000000</td>\n",
       "      <td>0.000000</td>\n",
       "      <td>15.000000</td>\n",
       "      <td>51.000000</td>\n",
       "      <td>...</td>\n",
       "      <td>0.000000</td>\n",
       "      <td>0.000000</td>\n",
       "      <td>0.000000</td>\n",
       "      <td>0.000000</td>\n",
       "      <td>27.000000</td>\n",
       "      <td>0.000000</td>\n",
       "      <td>0.000000</td>\n",
       "      <td>2.983975e+04</td>\n",
       "      <td>1.400000e+04</td>\n",
       "      <td>0.000000</td>\n",
       "    </tr>\n",
       "    <tr>\n",
       "      <th>50%</th>\n",
       "      <td>13000.000000</td>\n",
       "      <td>13000.000000</td>\n",
       "      <td>13000.000000</td>\n",
       "      <td>12.990000</td>\n",
       "      <td>6.500000e+04</td>\n",
       "      <td>17.650000</td>\n",
       "      <td>0.000000</td>\n",
       "      <td>0.000000</td>\n",
       "      <td>31.000000</td>\n",
       "      <td>70.000000</td>\n",
       "      <td>...</td>\n",
       "      <td>0.000000</td>\n",
       "      <td>0.000000</td>\n",
       "      <td>0.000000</td>\n",
       "      <td>0.000000</td>\n",
       "      <td>44.000000</td>\n",
       "      <td>0.000000</td>\n",
       "      <td>0.000000</td>\n",
       "      <td>8.066950e+04</td>\n",
       "      <td>2.370000e+04</td>\n",
       "      <td>0.000000</td>\n",
       "    </tr>\n",
       "    <tr>\n",
       "      <th>75%</th>\n",
       "      <td>20000.000000</td>\n",
       "      <td>20000.000000</td>\n",
       "      <td>20000.000000</td>\n",
       "      <td>16.200000</td>\n",
       "      <td>9.000000e+04</td>\n",
       "      <td>23.950000</td>\n",
       "      <td>0.000000</td>\n",
       "      <td>1.000000</td>\n",
       "      <td>50.000000</td>\n",
       "      <td>92.000000</td>\n",
       "      <td>...</td>\n",
       "      <td>0.000000</td>\n",
       "      <td>0.000000</td>\n",
       "      <td>0.000000</td>\n",
       "      <td>0.000000</td>\n",
       "      <td>61.000000</td>\n",
       "      <td>0.000000</td>\n",
       "      <td>0.000000</td>\n",
       "      <td>2.084792e+05</td>\n",
       "      <td>3.980000e+04</td>\n",
       "      <td>0.000000</td>\n",
       "    </tr>\n",
       "    <tr>\n",
       "      <th>max</th>\n",
       "      <td>35000.000000</td>\n",
       "      <td>35000.000000</td>\n",
       "      <td>35000.000000</td>\n",
       "      <td>28.990000</td>\n",
       "      <td>9.500000e+06</td>\n",
       "      <td>672.520000</td>\n",
       "      <td>30.000000</td>\n",
       "      <td>31.000000</td>\n",
       "      <td>180.000000</td>\n",
       "      <td>121.000000</td>\n",
       "      <td>...</td>\n",
       "      <td>358.680000</td>\n",
       "      <td>33520.270000</td>\n",
       "      <td>7002.190000</td>\n",
       "      <td>16.000000</td>\n",
       "      <td>180.000000</td>\n",
       "      <td>14.000000</td>\n",
       "      <td>496651.000000</td>\n",
       "      <td>8.000078e+06</td>\n",
       "      <td>9.999999e+06</td>\n",
       "      <td>1.000000</td>\n",
       "    </tr>\n",
       "  </tbody>\n",
       "</table>\n",
       "<p>8 rows × 26 columns</p>\n",
       "</div>"
      ],
      "text/plain": [
       "           loan_amnt    funded_amnt  funded_amnt_inv       int_rate  \\\n",
       "count  532428.000000  532428.000000    532428.000000  532428.000000   \n",
       "mean    14757.595722   14744.271291     14704.926696      13.242969   \n",
       "std      8434.420080    8429.139277      8441.290381       4.379611   \n",
       "min       500.000000     500.000000         0.000000       5.320000   \n",
       "25%      8000.000000    8000.000000      8000.000000       9.990000   \n",
       "50%     13000.000000   13000.000000     13000.000000      12.990000   \n",
       "75%     20000.000000   20000.000000     20000.000000      16.200000   \n",
       "max     35000.000000   35000.000000     35000.000000      28.990000   \n",
       "\n",
       "         annual_inc            dti    delinq_2yrs  inq_last_6mths  \\\n",
       "count  5.324250e+05  532428.000000  532412.000000   532412.000000   \n",
       "mean   7.502984e+04      18.138767       0.314448        0.694603   \n",
       "std    6.519985e+04       8.369074       0.860045        0.997025   \n",
       "min    1.200000e+03       0.000000       0.000000        0.000000   \n",
       "25%    4.500000e+04      11.930000       0.000000        0.000000   \n",
       "50%    6.500000e+04      17.650000       0.000000        0.000000   \n",
       "75%    9.000000e+04      23.950000       0.000000        1.000000   \n",
       "max    9.500000e+06     672.520000      30.000000       31.000000   \n",
       "\n",
       "       mths_since_last_delinq  mths_since_last_record  ...  \\\n",
       "count           259874.000000            82123.000000  ...   \n",
       "mean                34.055735               70.093068  ...   \n",
       "std                 21.884797               28.139219  ...   \n",
       "min                  0.000000                0.000000  ...   \n",
       "25%                 15.000000               51.000000  ...   \n",
       "50%                 31.000000               70.000000  ...   \n",
       "75%                 50.000000               92.000000  ...   \n",
       "max                180.000000              121.000000  ...   \n",
       "\n",
       "       total_rec_late_fee     recoveries  collection_recovery_fee  \\\n",
       "count       532428.000000  532428.000000            532428.000000   \n",
       "mean             0.394954      45.717832                 4.859221   \n",
       "std              4.091546     409.647467                63.123361   \n",
       "min              0.000000       0.000000                 0.000000   \n",
       "25%              0.000000       0.000000                 0.000000   \n",
       "50%              0.000000       0.000000                 0.000000   \n",
       "75%              0.000000       0.000000                 0.000000   \n",
       "max            358.680000   33520.270000              7002.190000   \n",
       "\n",
       "       collections_12_mths_ex_med  mths_since_last_major_derog  \\\n",
       "count               532333.000000                132980.000000   \n",
       "mean                     0.014299                    44.121462   \n",
       "std                      0.133005                    22.198410   \n",
       "min                      0.000000                     0.000000   \n",
       "25%                      0.000000                    27.000000   \n",
       "50%                      0.000000                    44.000000   \n",
       "75%                      0.000000                    61.000000   \n",
       "max                     16.000000                   180.000000   \n",
       "\n",
       "       acc_now_delinq   tot_coll_amt   tot_cur_bal  total_rev_hi_lim  \\\n",
       "count   532412.000000  490424.000000  4.904240e+05      4.904240e+05   \n",
       "mean         0.005015     213.562222  1.395541e+05      3.208057e+04   \n",
       "std          0.079117    1958.571538  1.539149e+05      3.805304e+04   \n",
       "min          0.000000       0.000000  0.000000e+00      0.000000e+00   \n",
       "25%          0.000000       0.000000  2.983975e+04      1.400000e+04   \n",
       "50%          0.000000       0.000000  8.066950e+04      2.370000e+04   \n",
       "75%          0.000000       0.000000  2.084792e+05      3.980000e+04   \n",
       "max         14.000000  496651.000000  8.000078e+06      9.999999e+06   \n",
       "\n",
       "         loan_status  \n",
       "count  532428.000000  \n",
       "mean        0.236327  \n",
       "std         0.424826  \n",
       "min         0.000000  \n",
       "25%         0.000000  \n",
       "50%         0.000000  \n",
       "75%         0.000000  \n",
       "max         1.000000  \n",
       "\n",
       "[8 rows x 26 columns]"
      ]
     },
     "execution_count": 6,
     "metadata": {},
     "output_type": "execute_result"
    }
   ],
   "source": [
    "df.describe()"
   ]
  },
  {
   "cell_type": "markdown",
   "id": "086aedf3",
   "metadata": {},
   "source": [
    "## checking null values"
   ]
  },
  {
   "cell_type": "code",
   "execution_count": 7,
   "id": "fc39ac34",
   "metadata": {},
   "outputs": [
    {
     "name": "stdout",
     "output_type": "stream",
     "text": [
      "532428\n",
      "loan_amnt                           0\n",
      "funded_amnt                         0\n",
      "funded_amnt_inv                     0\n",
      "term                                0\n",
      "batch_enrolled                  85149\n",
      "int_rate                            0\n",
      "grade                               0\n",
      "sub_grade                           0\n",
      "emp_title                       30833\n",
      "emp_length                      26891\n",
      "home_ownership                      0\n",
      "annual_inc                          3\n",
      "verification_status                 0\n",
      "pymnt_plan                          0\n",
      "desc                           456829\n",
      "purpose                             0\n",
      "title                              90\n",
      "zip_code                            0\n",
      "addr_state                          0\n",
      "dti                                 0\n",
      "delinq_2yrs                        16\n",
      "inq_last_6mths                     16\n",
      "mths_since_last_delinq         272554\n",
      "mths_since_last_record         450305\n",
      "open_acc                           16\n",
      "pub_rec                            16\n",
      "revol_bal                           0\n",
      "revol_util                        287\n",
      "total_acc                          16\n",
      "initial_list_status                 0\n",
      "total_rec_int                       0\n",
      "total_rec_late_fee                  0\n",
      "recoveries                          0\n",
      "collection_recovery_fee             0\n",
      "collections_12_mths_ex_med         95\n",
      "mths_since_last_major_derog    399448\n",
      "application_type                    0\n",
      "verification_status_joint      532123\n",
      "last_week_pay                       0\n",
      "acc_now_delinq                     16\n",
      "tot_coll_amt                    42004\n",
      "tot_cur_bal                     42004\n",
      "total_rev_hi_lim                42004\n",
      "loan_status                         0\n",
      "dtype: int64\n"
     ]
    }
   ],
   "source": [
    "print(len(df))\n",
    "print(df.isnull().sum())"
   ]
  },
  {
   "cell_type": "markdown",
   "id": "f356ba5d",
   "metadata": {},
   "source": [
    "## checking labels ratio"
   ]
  },
  {
   "cell_type": "code",
   "execution_count": 8,
   "id": "7ee4e98e",
   "metadata": {},
   "outputs": [
    {
     "name": "stdout",
     "output_type": "stream",
     "text": [
      "Total number of labels: 532428\n",
      "Number of negatives: 406601\n",
      "Number of positives: 125827\n"
     ]
    }
   ],
   "source": [
    "print(\"Total number of labels: {}\".format(df.shape[0]))\n",
    "print(\"Number of negatives: {}\".format(df[df.loan_status == 0].shape[0]))\n",
    "print(\"Number of positives: {}\".format(df[df.loan_status == 1].shape[0]))"
   ]
  },
  {
   "cell_type": "markdown",
   "id": "53e1d53c",
   "metadata": {},
   "source": [
    "## removing columns with more than 20% null values"
   ]
  },
  {
   "cell_type": "code",
   "execution_count": 9,
   "id": "7762c4af",
   "metadata": {},
   "outputs": [
    {
     "name": "stdout",
     "output_type": "stream",
     "text": [
      "Removing the following columns\n",
      "column desc has 85 % null values\n",
      "column mths_since_last_delinq has 51 % null values\n",
      "column mths_since_last_record has 84 % null values\n",
      "column mths_since_last_major_derog has 75 % null values\n",
      "column verification_status_joint has 99 % null values\n"
     ]
    }
   ],
   "source": [
    "print('Removing the following columns')\n",
    "for col_name in df.columns:\n",
    "    if 100*(df[col_name].isnull().sum())//len(df)>20:\n",
    "        print('column',col_name,'has',100*(df[col_name].isnull().sum())//len(df),'% null values')\n",
    "        df=df.drop([col_name], axis=1)\n",
    "        test_df=test_df.drop([col_name], axis=1)"
   ]
  },
  {
   "cell_type": "markdown",
   "id": "5592087a",
   "metadata": {},
   "source": [
    "## removing columns with more than 2000 unique values"
   ]
  },
  {
   "cell_type": "code",
   "execution_count": 10,
   "id": "c08b55eb",
   "metadata": {},
   "outputs": [
    {
     "name": "stdout",
     "output_type": "stream",
     "text": [
      "Removing the following columns\n",
      "column emp_title has 35.70886579969498 % uniques values\n",
      "column title has 7.45509251955194 % uniques values\n"
     ]
    }
   ],
   "source": [
    "print('Removing the following columns')\n",
    "for col_name in df.columns:\n",
    "    if df[col_name].dtypes in ['O'] and df[col_name].nunique()>2000:\n",
    "        print('column',col_name,'has',100*(df[col_name].nunique())/len(df),'% uniques values')\n",
    "        df=df.drop([col_name], axis=1)\n",
    "        test_df=test_df.drop([col_name], axis=1)"
   ]
  },
  {
   "cell_type": "markdown",
   "id": "ae25d85d",
   "metadata": {},
   "source": [
    "## gathering column names with less than 2000 uniques values and str data type for encoding"
   ]
  },
  {
   "cell_type": "code",
   "execution_count": 11,
   "id": "73f194a8",
   "metadata": {},
   "outputs": [
    {
     "name": "stdout",
     "output_type": "stream",
     "text": [
      "column term has object 2 uniques values\n",
      "column batch_enrolled has object 104 uniques values\n",
      "column grade has object 7 uniques values\n",
      "column sub_grade has object 35 uniques values\n",
      "column emp_length has object 11 uniques values\n",
      "column home_ownership has object 6 uniques values\n",
      "column verification_status has object 3 uniques values\n",
      "column pymnt_plan has object 2 uniques values\n",
      "column purpose has object 14 uniques values\n",
      "column zip_code has object 917 uniques values\n",
      "column addr_state has object 51 uniques values\n",
      "column initial_list_status has object 2 uniques values\n",
      "column application_type has object 2 uniques values\n",
      "column last_week_pay has object 98 uniques values\n",
      "['term', 'batch_enrolled', 'grade', 'sub_grade', 'emp_length', 'home_ownership', 'verification_status', 'pymnt_plan', 'purpose', 'zip_code', 'addr_state', 'initial_list_status', 'application_type', 'last_week_pay']\n"
     ]
    }
   ],
   "source": [
    "col_names=[]\n",
    "for col_name in df.columns:\n",
    "    if df[col_name].dtypes in ['O']:\n",
    "        if df[col_name].nunique()<2000:\n",
    "            print('column',col_name,'has',df[col_name].dtype,df[col_name].nunique(),'uniques values')\n",
    "            col_names+=[col_name]\n",
    "print(col_names)"
   ]
  },
  {
   "cell_type": "markdown",
   "id": "ecb11c89",
   "metadata": {},
   "source": [
    "## performing encoding on the gethered columns"
   ]
  },
  {
   "cell_type": "code",
   "execution_count": 12,
   "id": "8ee81f5e",
   "metadata": {},
   "outputs": [
    {
     "name": "stdout",
     "output_type": "stream",
     "text": [
      "term 2\n",
      "batch_enrolled 104\n",
      "grade 7\n",
      "sub_grade 35\n",
      "emp_length 11\n",
      "home_ownership 6\n",
      "verification_status 3\n",
      "pymnt_plan 2\n",
      "purpose 14\n",
      "zip_code 917\n",
      "addr_state 51\n",
      "initial_list_status 2\n",
      "application_type 2\n",
      "last_week_pay 98\n"
     ]
    }
   ],
   "source": [
    "encoder = LabelEncoder()\n",
    "for col_name in col_names:\n",
    "    print(col_name,df[col_name].nunique())\n",
    "    df[col_name] = encoder.fit_transform(df[col_name])\n",
    "    test_df[col_name] = encoder.fit_transform(test_df[col_name])"
   ]
  },
  {
   "cell_type": "markdown",
   "id": "fffe46da",
   "metadata": {},
   "source": [
    "## filling in the null values with mean"
   ]
  },
  {
   "cell_type": "code",
   "execution_count": 13,
   "id": "5f353f13",
   "metadata": {},
   "outputs": [
    {
     "name": "stdout",
     "output_type": "stream",
     "text": [
      "annual_inc 0\n",
      "delinq_2yrs 0\n",
      "inq_last_6mths 0\n",
      "open_acc 0\n",
      "pub_rec 0\n",
      "revol_util 0\n",
      "total_acc 0\n",
      "collections_12_mths_ex_med 0\n",
      "acc_now_delinq 0\n",
      "tot_coll_amt 7\n",
      "tot_cur_bal 7\n",
      "total_rev_hi_lim 7\n"
     ]
    }
   ],
   "source": [
    "for col_name in df.columns[:-1]:\n",
    "    mean_value = df[col_name].mean()\n",
    "    if df[col_name].isnull().sum():\n",
    "        print(col_name,100*(df[col_name].isnull().sum())//len(df))\n",
    "        df[col_name].fillna(value=mean_value, inplace=True)\n",
    "    if test_df[col_name].isnull().sum():\n",
    "        test_df[col_name].fillna(value=mean_value, inplace=True)"
   ]
  },
  {
   "cell_type": "markdown",
   "id": "aa03e103",
   "metadata": {},
   "source": [
    "## saperating features and class label"
   ]
  },
  {
   "cell_type": "code",
   "execution_count": 14,
   "id": "948077fb",
   "metadata": {},
   "outputs": [
    {
     "data": {
      "text/html": [
       "<div>\n",
       "<style scoped>\n",
       "    .dataframe tbody tr th:only-of-type {\n",
       "        vertical-align: middle;\n",
       "    }\n",
       "\n",
       "    .dataframe tbody tr th {\n",
       "        vertical-align: top;\n",
       "    }\n",
       "\n",
       "    .dataframe thead th {\n",
       "        text-align: right;\n",
       "    }\n",
       "</style>\n",
       "<table border=\"1\" class=\"dataframe\">\n",
       "  <thead>\n",
       "    <tr style=\"text-align: right;\">\n",
       "      <th></th>\n",
       "      <th>loan_amnt</th>\n",
       "      <th>funded_amnt</th>\n",
       "      <th>funded_amnt_inv</th>\n",
       "      <th>term</th>\n",
       "      <th>batch_enrolled</th>\n",
       "      <th>int_rate</th>\n",
       "      <th>grade</th>\n",
       "      <th>sub_grade</th>\n",
       "      <th>emp_length</th>\n",
       "      <th>home_ownership</th>\n",
       "      <th>...</th>\n",
       "      <th>total_rec_late_fee</th>\n",
       "      <th>recoveries</th>\n",
       "      <th>collection_recovery_fee</th>\n",
       "      <th>collections_12_mths_ex_med</th>\n",
       "      <th>application_type</th>\n",
       "      <th>last_week_pay</th>\n",
       "      <th>acc_now_delinq</th>\n",
       "      <th>tot_coll_amt</th>\n",
       "      <th>tot_cur_bal</th>\n",
       "      <th>total_rev_hi_lim</th>\n",
       "    </tr>\n",
       "  </thead>\n",
       "  <tbody>\n",
       "    <tr>\n",
       "      <th>0</th>\n",
       "      <td>14350</td>\n",
       "      <td>14350</td>\n",
       "      <td>14350.0</td>\n",
       "      <td>0</td>\n",
       "      <td>0</td>\n",
       "      <td>19.19</td>\n",
       "      <td>4</td>\n",
       "      <td>22</td>\n",
       "      <td>9</td>\n",
       "      <td>4</td>\n",
       "      <td>...</td>\n",
       "      <td>0.0</td>\n",
       "      <td>0.0</td>\n",
       "      <td>0.0</td>\n",
       "      <td>0.0</td>\n",
       "      <td>0</td>\n",
       "      <td>62</td>\n",
       "      <td>0.0</td>\n",
       "      <td>0.0</td>\n",
       "      <td>28699.0</td>\n",
       "      <td>30800.0</td>\n",
       "    </tr>\n",
       "    <tr>\n",
       "      <th>1</th>\n",
       "      <td>4800</td>\n",
       "      <td>4800</td>\n",
       "      <td>4800.0</td>\n",
       "      <td>0</td>\n",
       "      <td>9</td>\n",
       "      <td>10.99</td>\n",
       "      <td>1</td>\n",
       "      <td>8</td>\n",
       "      <td>10</td>\n",
       "      <td>1</td>\n",
       "      <td>...</td>\n",
       "      <td>0.0</td>\n",
       "      <td>0.0</td>\n",
       "      <td>0.0</td>\n",
       "      <td>0.0</td>\n",
       "      <td>0</td>\n",
       "      <td>96</td>\n",
       "      <td>0.0</td>\n",
       "      <td>0.0</td>\n",
       "      <td>9974.0</td>\n",
       "      <td>32900.0</td>\n",
       "    </tr>\n",
       "    <tr>\n",
       "      <th>2</th>\n",
       "      <td>10000</td>\n",
       "      <td>10000</td>\n",
       "      <td>10000.0</td>\n",
       "      <td>0</td>\n",
       "      <td>9</td>\n",
       "      <td>7.26</td>\n",
       "      <td>0</td>\n",
       "      <td>3</td>\n",
       "      <td>2</td>\n",
       "      <td>4</td>\n",
       "      <td>...</td>\n",
       "      <td>0.0</td>\n",
       "      <td>0.0</td>\n",
       "      <td>0.0</td>\n",
       "      <td>0.0</td>\n",
       "      <td>0</td>\n",
       "      <td>96</td>\n",
       "      <td>0.0</td>\n",
       "      <td>65.0</td>\n",
       "      <td>38295.0</td>\n",
       "      <td>34900.0</td>\n",
       "    </tr>\n",
       "    <tr>\n",
       "      <th>3</th>\n",
       "      <td>15000</td>\n",
       "      <td>15000</td>\n",
       "      <td>15000.0</td>\n",
       "      <td>0</td>\n",
       "      <td>80</td>\n",
       "      <td>19.72</td>\n",
       "      <td>3</td>\n",
       "      <td>19</td>\n",
       "      <td>1</td>\n",
       "      <td>5</td>\n",
       "      <td>...</td>\n",
       "      <td>0.0</td>\n",
       "      <td>0.0</td>\n",
       "      <td>0.0</td>\n",
       "      <td>0.0</td>\n",
       "      <td>0</td>\n",
       "      <td>13</td>\n",
       "      <td>0.0</td>\n",
       "      <td>0.0</td>\n",
       "      <td>55564.0</td>\n",
       "      <td>24700.0</td>\n",
       "    </tr>\n",
       "    <tr>\n",
       "      <th>4</th>\n",
       "      <td>16000</td>\n",
       "      <td>16000</td>\n",
       "      <td>16000.0</td>\n",
       "      <td>0</td>\n",
       "      <td>35</td>\n",
       "      <td>10.64</td>\n",
       "      <td>1</td>\n",
       "      <td>6</td>\n",
       "      <td>1</td>\n",
       "      <td>5</td>\n",
       "      <td>...</td>\n",
       "      <td>0.0</td>\n",
       "      <td>0.0</td>\n",
       "      <td>0.0</td>\n",
       "      <td>0.0</td>\n",
       "      <td>0</td>\n",
       "      <td>95</td>\n",
       "      <td>0.0</td>\n",
       "      <td>0.0</td>\n",
       "      <td>47159.0</td>\n",
       "      <td>47033.0</td>\n",
       "    </tr>\n",
       "  </tbody>\n",
       "</table>\n",
       "<p>5 rows × 36 columns</p>\n",
       "</div>"
      ],
      "text/plain": [
       "   loan_amnt  funded_amnt  funded_amnt_inv  term  batch_enrolled  int_rate  \\\n",
       "0      14350        14350          14350.0     0               0     19.19   \n",
       "1       4800         4800           4800.0     0               9     10.99   \n",
       "2      10000        10000          10000.0     0               9      7.26   \n",
       "3      15000        15000          15000.0     0              80     19.72   \n",
       "4      16000        16000          16000.0     0              35     10.64   \n",
       "\n",
       "   grade  sub_grade  emp_length  home_ownership  ...  total_rec_late_fee  \\\n",
       "0      4         22           9               4  ...                 0.0   \n",
       "1      1          8          10               1  ...                 0.0   \n",
       "2      0          3           2               4  ...                 0.0   \n",
       "3      3         19           1               5  ...                 0.0   \n",
       "4      1          6           1               5  ...                 0.0   \n",
       "\n",
       "   recoveries  collection_recovery_fee  collections_12_mths_ex_med  \\\n",
       "0         0.0                      0.0                         0.0   \n",
       "1         0.0                      0.0                         0.0   \n",
       "2         0.0                      0.0                         0.0   \n",
       "3         0.0                      0.0                         0.0   \n",
       "4         0.0                      0.0                         0.0   \n",
       "\n",
       "   application_type  last_week_pay  acc_now_delinq  tot_coll_amt  tot_cur_bal  \\\n",
       "0                 0             62             0.0           0.0      28699.0   \n",
       "1                 0             96             0.0           0.0       9974.0   \n",
       "2                 0             96             0.0          65.0      38295.0   \n",
       "3                 0             13             0.0           0.0      55564.0   \n",
       "4                 0             95             0.0           0.0      47159.0   \n",
       "\n",
       "   total_rev_hi_lim  \n",
       "0           30800.0  \n",
       "1           32900.0  \n",
       "2           34900.0  \n",
       "3           24700.0  \n",
       "4           47033.0  \n",
       "\n",
       "[5 rows x 36 columns]"
      ]
     },
     "execution_count": 14,
     "metadata": {},
     "output_type": "execute_result"
    }
   ],
   "source": [
    "X=df.iloc[:, :-1]\n",
    "X.head()"
   ]
  },
  {
   "cell_type": "code",
   "execution_count": 15,
   "id": "3c9ed81b",
   "metadata": {},
   "outputs": [
    {
     "data": {
      "text/plain": [
       "0    0\n",
       "1    0\n",
       "2    0\n",
       "3    0\n",
       "4    0\n",
       "Name: loan_status, dtype: int64"
      ]
     },
     "execution_count": 15,
     "metadata": {},
     "output_type": "execute_result"
    }
   ],
   "source": [
    "Y=df.iloc[:,-1]\n",
    "Y.head()"
   ]
  },
  {
   "cell_type": "markdown",
   "id": "9e4a74eb",
   "metadata": {},
   "source": [
    "## scaling the data"
   ]
  },
  {
   "cell_type": "code",
   "execution_count": 16,
   "id": "16503c22",
   "metadata": {},
   "outputs": [],
   "source": [
    "#scalar = QuantileTransformer(random_state=13,output_distribution='normal')\n",
    "scaler = StandardScaler()\n",
    "scaler.fit(X)\n",
    "X = scaler.transform(X)\n",
    "\n",
    "test_df = scaler.transform(test_df)"
   ]
  },
  {
   "cell_type": "markdown",
   "id": "3c952c41",
   "metadata": {},
   "source": [
    "## spliting the data for training"
   ]
  },
  {
   "cell_type": "code",
   "execution_count": 17,
   "id": "579d6cc4",
   "metadata": {},
   "outputs": [],
   "source": [
    "X_train, X_test, y_train, y_test = train_test_split(X, Y, test_size=0.001, random_state=41)"
   ]
  },
  {
   "cell_type": "markdown",
   "id": "3956208f",
   "metadata": {},
   "source": [
    "## loading the model"
   ]
  },
  {
   "cell_type": "code",
   "execution_count": 18,
   "id": "977a8447",
   "metadata": {},
   "outputs": [],
   "source": [
    "#from sklearn.naive_bayes import GaussianNB\n",
    "#model = GaussianNB()\n",
    "\n",
    "from sklearn.linear_model import LogisticRegression\n",
    "from sklearn import metrics\n",
    "model = LogisticRegression(max_iter=1000)"
   ]
  },
  {
   "cell_type": "markdown",
   "id": "c92623e5",
   "metadata": {},
   "source": [
    "## fitting the model"
   ]
  },
  {
   "cell_type": "code",
   "execution_count": 19,
   "id": "1179a9f9",
   "metadata": {},
   "outputs": [],
   "source": [
    "model.fit(X_train,y_train)\n",
    "y_pred_proba=model.predict_proba(X_test)"
   ]
  },
  {
   "cell_type": "markdown",
   "id": "01f6774b",
   "metadata": {},
   "source": [
    "## checking accuracy and probability of class label"
   ]
  },
  {
   "cell_type": "code",
   "execution_count": 20,
   "id": "913e10bb",
   "metadata": {},
   "outputs": [
    {
     "name": "stdout",
     "output_type": "stream",
     "text": [
      "0.7879924953095685\n"
     ]
    }
   ],
   "source": [
    "print(model.score(X_test, y_test))"
   ]
  },
  {
   "cell_type": "code",
   "execution_count": 21,
   "id": "b921c5d0",
   "metadata": {},
   "outputs": [
    {
     "data": {
      "text/plain": [
       "0.6184561965811965"
      ]
     },
     "execution_count": 21,
     "metadata": {},
     "output_type": "execute_result"
    }
   ],
   "source": [
    "ray = model.predict(X_test)\n",
    "roc_auc_score(y_test, ray)"
   ]
  },
  {
   "cell_type": "code",
   "execution_count": 22,
   "id": "75a135cb",
   "metadata": {},
   "outputs": [
    {
     "data": {
      "text/plain": [
       "0.7781681459566075"
      ]
     },
     "execution_count": 22,
     "metadata": {},
     "output_type": "execute_result"
    }
   ],
   "source": [
    "ray = [round(i[1],2) for i in y_pred_proba]\n",
    "roc_auc_score(y_test, ray)"
   ]
  },
  {
   "cell_type": "code",
   "execution_count": 23,
   "id": "5425af0d",
   "metadata": {},
   "outputs": [],
   "source": [
    "#here first element of array represents probability for class label 0 \n",
    "#and second element of array represents probability for class label 1. "
   ]
  },
  {
   "cell_type": "code",
   "execution_count": 24,
   "id": "67b22421",
   "metadata": {},
   "outputs": [
    {
     "data": {
      "text/plain": [
       "array([[5.41523641e-01, 4.58476359e-01],\n",
       "       [6.84478519e-01, 3.15521481e-01],\n",
       "       [6.82416131e-01, 3.17583869e-01],\n",
       "       ...,\n",
       "       [9.13351512e-01, 8.66484876e-02],\n",
       "       [9.99410345e-01, 5.89654676e-04],\n",
       "       [9.08220583e-01, 9.17794171e-02]])"
      ]
     },
     "execution_count": 24,
     "metadata": {},
     "output_type": "execute_result"
    }
   ],
   "source": [
    "y_pred_proba"
   ]
  },
  {
   "cell_type": "markdown",
   "id": "e5097a2d",
   "metadata": {},
   "source": [
    "## running prediction on test data"
   ]
  },
  {
   "cell_type": "code",
   "execution_count": 25,
   "id": "f0d28e4f",
   "metadata": {},
   "outputs": [],
   "source": [
    "results = model.predict_proba(test_df)"
   ]
  },
  {
   "cell_type": "markdown",
   "id": "b5a68396",
   "metadata": {},
   "source": [
    "## converting to the requested format and saving to csv"
   ]
  },
  {
   "cell_type": "code",
   "execution_count": 26,
   "id": "3e56754a",
   "metadata": {},
   "outputs": [],
   "source": [
    "results = [round(i[1],2) for i in results]\n",
    "sub_df = pd.DataFrame()\n",
    "sub_df['member_id'] = test_member_id\n",
    "sub_df['loan_status'] = results\n",
    "sub_df.to_csv(save_path, index = False)"
   ]
  }
 ],
 "metadata": {
  "kernelspec": {
   "display_name": "Python 3",
   "language": "python",
   "name": "python3"
  },
  "language_info": {
   "codemirror_mode": {
    "name": "ipython",
    "version": 3
   },
   "file_extension": ".py",
   "mimetype": "text/x-python",
   "name": "python",
   "nbconvert_exporter": "python",
   "pygments_lexer": "ipython3",
   "version": "3.8.3"
  }
 },
 "nbformat": 4,
 "nbformat_minor": 5
}
